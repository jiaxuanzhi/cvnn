{
  "cells": [
    {
      "cell_type": "markdown",
      "metadata": {
        "colab_type": "text",
        "id": "view-in-github"
      },
      "source": [
        "<a href=\"https://colab.research.google.com/github/NEGU93/cvnn/blob/master/examples/CIFAR40_Complex_working_example.ipynb\" target=\"_parent\"><img src=\"https://colab.research.google.com/assets/colab-badge.svg\" alt=\"Open In Colab\"/></a>"
      ]
    },
    {
      "cell_type": "code",
      "execution_count": 3,
      "metadata": {
        "colab": {
          "base_uri": "https://localhost:8080/"
        },
        "id": "slrvVgbNeBmT",
        "outputId": "5e96096f-6f48-456f-f11f-240899962d7e"
      },
      "outputs": [
        {
          "name": "stdout",
          "output_type": "stream",
          "text": [
            "Looking in indexes: https://mirrors.aliyun.com/pypi/simple/\n",
            "Collecting cvnn\n",
            "  Using cached https://mirrors.aliyun.com/pypi/packages/c5/e1/e98f4f59843a11ff61a0f98e7c640d1310ae09a2c51d66946470d486f241/cvnn-2.0.tar.gz (59 kB)\n",
            "  Preparing metadata (setup.py): started\n",
            "  Preparing metadata (setup.py): finished with status 'error'\n",
            "Note: you may need to restart the kernel to use updated packages.\n"
          ]
        },
        {
          "name": "stderr",
          "output_type": "stream",
          "text": [
            "  error: subprocess-exited-with-error\n",
            "  \n",
            "  × python setup.py egg_info did not run successfully.\n",
            "  │ exit code: 1\n",
            "  ╰─> [18 lines of output]\n",
            "      C:\\Users\\JYZ\\AppData\\Local\\Temp\\pip-install-lwg_ds_l\\cvnn_937f4de6fe7b4bfdae9ba478a9c9a660\\versioneer.py:421: SyntaxWarning: invalid escape sequence '\\s'\n",
            "        LONG_VERSION_PY['git'] = '''\n",
            "      Traceback (most recent call last):\n",
            "        File \"<string>\", line 2, in <module>\n",
            "        File \"<pip-setuptools-caller>\", line 34, in <module>\n",
            "        File \"C:\\Users\\JYZ\\AppData\\Local\\Temp\\pip-install-lwg_ds_l\\cvnn_937f4de6fe7b4bfdae9ba478a9c9a660\\setup.py\", line 15, in <module>\n",
            "          version=versioneer.get_version(),\n",
            "                  ^^^^^^^^^^^^^^^^^^^^^^^^\n",
            "        File \"C:\\Users\\JYZ\\AppData\\Local\\Temp\\pip-install-lwg_ds_l\\cvnn_937f4de6fe7b4bfdae9ba478a9c9a660\\versioneer.py\", line 1483, in get_version\n",
            "          return get_versions()[\"version\"]\n",
            "                 ^^^^^^^^^^^^^^\n",
            "        File \"C:\\Users\\JYZ\\AppData\\Local\\Temp\\pip-install-lwg_ds_l\\cvnn_937f4de6fe7b4bfdae9ba478a9c9a660\\versioneer.py\", line 1415, in get_versions\n",
            "          cfg = get_config_from_root(root)\n",
            "                ^^^^^^^^^^^^^^^^^^^^^^^^^^\n",
            "        File \"C:\\Users\\JYZ\\AppData\\Local\\Temp\\pip-install-lwg_ds_l\\cvnn_937f4de6fe7b4bfdae9ba478a9c9a660\\versioneer.py\", line 342, in get_config_from_root\n",
            "          parser = configparser.SafeConfigParser()\n",
            "                   ^^^^^^^^^^^^^^^^^^^^^^^^^^^^^\n",
            "      AttributeError: module 'configparser' has no attribute 'SafeConfigParser'. Did you mean: 'RawConfigParser'?\n",
            "      [end of output]\n",
            "  \n",
            "  note: This error originates from a subprocess, and is likely not a problem with pip.\n",
            "error: metadata-generation-failed\n",
            "\n",
            "× Encountered error while generating package metadata.\n",
            "╰─> See above for output.\n",
            "\n",
            "note: This is an issue with the package mentioned above, not pip.\n",
            "hint: See above for details.\n"
          ]
        },
        {
          "name": "stdout",
          "output_type": "stream",
          "text": [
            "Looking in indexes: https://mirrors.aliyun.com/pypi/simple/\n",
            "Note: you may need to restart the kernel to use updated packages.\n"
          ]
        },
        {
          "name": "stderr",
          "output_type": "stream",
          "text": [
            "ERROR: Could not find a version that satisfies the requirement tensorflow-addons (from versions: none)\n",
            "ERROR: No matching distribution found for tensorflow-addons\n"
          ]
        }
      ],
      "source": [
        "%pip install cvnn\n",
        "%pip install tensorflow-addons"
      ]
    },
    {
      "cell_type": "code",
      "execution_count": 4,
      "metadata": {
        "id": "JpggjrYAda0L"
      },
      "outputs": [
        {
          "ename": "ModuleNotFoundError",
          "evalue": "No module named 'cvnn'",
          "output_type": "error",
          "traceback": [
            "\u001b[1;31m---------------------------------------------------------------------------\u001b[0m",
            "\u001b[1;31mModuleNotFoundError\u001b[0m                       Traceback (most recent call last)",
            "Cell \u001b[1;32mIn[4], line 3\u001b[0m\n\u001b[0;32m      1\u001b[0m \u001b[38;5;28;01mimport\u001b[39;00m\u001b[38;5;250m \u001b[39m\u001b[38;5;21;01mtensorflow\u001b[39;00m\u001b[38;5;250m \u001b[39m\u001b[38;5;28;01mas\u001b[39;00m\u001b[38;5;250m \u001b[39m\u001b[38;5;21;01mtf\u001b[39;00m\n\u001b[0;32m      2\u001b[0m \u001b[38;5;28;01mfrom\u001b[39;00m\u001b[38;5;250m \u001b[39m\u001b[38;5;21;01mtensorflow\u001b[39;00m\u001b[38;5;21;01m.\u001b[39;00m\u001b[38;5;21;01mkeras\u001b[39;00m\u001b[38;5;250m \u001b[39m\u001b[38;5;28;01mimport\u001b[39;00m datasets, layers, models\n\u001b[1;32m----> 3\u001b[0m \u001b[38;5;28;01mimport\u001b[39;00m\u001b[38;5;250m \u001b[39m\u001b[38;5;21;01mcvnn\u001b[39;00m\u001b[38;5;21;01m.\u001b[39;00m\u001b[38;5;21;01mlayers\u001b[39;00m\u001b[38;5;250m \u001b[39m\u001b[38;5;28;01mas\u001b[39;00m\u001b[38;5;250m \u001b[39m\u001b[38;5;21;01mcomplex_layers\u001b[39;00m\n\u001b[0;32m      4\u001b[0m \u001b[38;5;28;01mimport\u001b[39;00m\u001b[38;5;250m \u001b[39m\u001b[38;5;21;01mnumpy\u001b[39;00m\u001b[38;5;250m \u001b[39m\u001b[38;5;28;01mas\u001b[39;00m\u001b[38;5;250m \u001b[39m\u001b[38;5;21;01mnp\u001b[39;00m\n\u001b[0;32m      5\u001b[0m \u001b[38;5;28;01mfrom\u001b[39;00m\u001b[38;5;250m \u001b[39m\u001b[38;5;21;01mcvnn\u001b[39;00m\u001b[38;5;250m \u001b[39m\u001b[38;5;28;01mimport\u001b[39;00m losses\n",
            "\u001b[1;31mModuleNotFoundError\u001b[0m: No module named 'cvnn'"
          ]
        }
      ],
      "source": [
        "import tensorflow as tf\n",
        "from tensorflow.keras import datasets, layers, models\n",
        "import cvnn.layers as complex_layers\n",
        "import numpy as np\n",
        "from cvnn import losses\n",
        "from cvnn import metrics\n",
        "from pdb import set_trace\n",
        "from importlib import reload\n",
        "import os\n",
        "import tensorflow\n",
        "from matplotlib import pyplot as plt\n",
        "from tensorflow.keras.utils import to_categorical\n",
        "\n",
        "def own_complex_fit(epochs=10):\n",
        "    tf.random.set_seed(1)\n",
        "    init = 'ComplexGlorotUniform'\n",
        "    acti = 'cart_relu'\n",
        "    model = models.Sequential()\n",
        "    model.add(complex_layers.ComplexInput(input_shape=(32, 32, 3)))                     # Always use ComplexInput at the start\n",
        "    model.add(complex_layers.ComplexConv2D(32, (3, 3), activation=acti, input_shape=(32, 32, 3), kernel_initializer=init))\n",
        "    model.add(complex_layers.ComplexMaxPooling2D((2, 2)))\n",
        "    model.add(complex_layers.ComplexConv2D(64, (3, 3), activation=acti, kernel_initializer=init))\n",
        "    model.add(complex_layers.ComplexMaxPooling2D((2, 2)))\n",
        "    model.add(complex_layers.ComplexConv2D(64, (3, 3), activation=acti, kernel_initializer=init))\n",
        "    model.add(complex_layers.ComplexFlatten())\n",
        "    model.add(complex_layers.ComplexDense(64, activation=acti, kernel_initializer=init))\n",
        "    model.add(complex_layers.ComplexDense(10, activation='cart_softmax', kernel_initializer=init))\n",
        "    print(model.summary())\n",
        "    \n",
        "    \n",
        "    model.compile(optimizer='sgd', \n",
        "                  loss=losses.ComplexAverageCrossEntropy(),\n",
        "                  metrics=metrics.ComplexCategoricalAccuracy())\n",
        "    \n",
        "    history = model.fit(train_images, train_labels, epochs=epochs, validation_data=(test_images, test_labels),batch_size=32)\n",
        "    return history"
      ]
    },
    {
      "cell_type": "code",
      "execution_count": null,
      "metadata": {
        "colab": {
          "base_uri": "https://localhost:8080/"
        },
        "id": "QkcVDUqneHbY",
        "outputId": "601de1da-5a50-47cb-a5d4-5c9e62f5ccd2"
      },
      "outputs": [
        {
          "name": "stdout",
          "output_type": "stream",
          "text": [
            "Downloading data from https://www.cs.toronto.edu/~kriz/cifar-10-python.tar.gz\n",
            "170500096/170498071 [==============================] - 2s 0us/step\n",
            "170508288/170498071 [==============================] - 2s 0us/step\n"
          ]
        }
      ],
      "source": [
        "(train_images, train_labels), (test_images, test_labels) = datasets.cifar10.load_data()\n",
        "train_images, test_images = train_images.astype(dtype=np.complex64) / 255.0, test_images.astype(dtype=np.complex64) / 255.0\n",
        "train_labels = to_categorical(train_labels, 10)\n",
        "test_labels = to_categorical(test_labels, 10)"
      ]
    },
    {
      "cell_type": "code",
      "execution_count": null,
      "metadata": {
        "colab": {
          "base_uri": "https://localhost:8080/"
        },
        "id": "PmDv7lkdeTbC",
        "outputId": "d5a264de-c4af-437d-c5ac-59da677ebcc6"
      },
      "outputs": [
        {
          "data": {
            "text/plain": [
              "(50000, 32, 32, 3)"
            ]
          },
          "execution_count": 8,
          "metadata": {},
          "output_type": "execute_result"
        }
      ],
      "source": [
        "train_images.shape"
      ]
    },
    {
      "cell_type": "code",
      "execution_count": null,
      "metadata": {
        "colab": {
          "base_uri": "https://localhost:8080/"
        },
        "id": "6iiIM4XYeXUx",
        "outputId": "fb812df0-6513-411a-aa94-e7c93cdb4821"
      },
      "outputs": [
        {
          "data": {
            "text/plain": [
              "(50000, 10)"
            ]
          },
          "execution_count": 14,
          "metadata": {},
          "output_type": "execute_result"
        }
      ],
      "source": [
        "train_labels.shape"
      ]
    },
    {
      "cell_type": "code",
      "execution_count": null,
      "metadata": {
        "colab": {
          "base_uri": "https://localhost:8080/"
        },
        "id": "QZuP3MVbeJHR",
        "outputId": "04887e8f-242d-4846-9cb5-c5f8f5b58d5f"
      },
      "outputs": [
        {
          "name": "stdout",
          "output_type": "stream",
          "text": [
            "Model: \"sequential_5\"\n",
            "_________________________________________________________________\n",
            " Layer (type)                Output Shape              Param #   \n",
            "=================================================================\n",
            " complex_conv2d_15 (ComplexC  (None, 30, 30, 32)       1792      \n",
            " onv2D)                                                          \n",
            "                                                                 \n",
            " complex_max_pooling2d_10 (C  (None, 15, 15, 32)       0         \n",
            " omplexMaxPooling2D)                                             \n",
            "                                                                 \n",
            " complex_conv2d_16 (ComplexC  (None, 13, 13, 64)       36992     \n",
            " onv2D)                                                          \n",
            "                                                                 \n",
            " complex_max_pooling2d_11 (C  (None, 6, 6, 64)         0         \n",
            " omplexMaxPooling2D)                                             \n",
            "                                                                 \n",
            " complex_conv2d_17 (ComplexC  (None, 4, 4, 64)         73856     \n",
            " onv2D)                                                          \n",
            "                                                                 \n",
            " complex_flatten_5 (ComplexF  (None, 1024)             0         \n",
            " latten)                                                         \n",
            "                                                                 \n",
            " complex_dense_10 (ComplexDe  (None, 64)               131200    \n",
            " nse)                                                            \n",
            "                                                                 \n",
            " complex_dense_11 (ComplexDe  (None, 10)               1300      \n",
            " nse)                                                            \n",
            "                                                                 \n",
            "=================================================================\n",
            "Total params: 245,140\n",
            "Trainable params: 245,140\n",
            "Non-trainable params: 0\n",
            "_________________________________________________________________\n",
            "None\n",
            "Epoch 1/5\n",
            " 467/1563 [=======>......................] - ETA: 2:58 - loss: 2.2792 - complex_categorical_accuracy: 0.1399"
          ]
        }
      ],
      "source": [
        "\n",
        "history = own_complex_fit(epochs=5)\n",
        "print(history.history.keys())\n",
        "#  \"Accuracy\"\n",
        "plt.plot(history.history['complex_accuracy'])\n",
        "plt.plot(history.history['val_complex_accuracy'])\n",
        "plt.title('model accuracy')\n",
        "plt.ylabel('accuracy')\n",
        "plt.xlabel('epoch')\n",
        "plt.legend(['train', 'validation'], loc='upper left')\n",
        "plt.show()\n",
        "# \"Loss\"\n",
        "plt.plot(history.history['loss'])\n",
        "plt.plot(history.history['val_loss'])\n",
        "plt.title('model loss')\n",
        "plt.ylabel('loss')\n",
        "plt.xlabel('epoch')\n",
        "plt.legend(['train', 'validation'], loc='upper left')\n",
        "plt.show()"
      ]
    }
  ],
  "metadata": {
    "colab": {
      "authorship_tag": "ABX9TyNIiBuZcUR6qdqiAil+XVdu",
      "include_colab_link": true,
      "name": "CIFAR40_Complex_working_example.ipynb",
      "provenance": []
    },
    "kernelspec": {
      "display_name": "pytouch",
      "language": "python",
      "name": "python3"
    },
    "language_info": {
      "codemirror_mode": {
        "name": "ipython",
        "version": 3
      },
      "file_extension": ".py",
      "mimetype": "text/x-python",
      "name": "python",
      "nbconvert_exporter": "python",
      "pygments_lexer": "ipython3",
      "version": "3.12.9"
    }
  },
  "nbformat": 4,
  "nbformat_minor": 0
}
